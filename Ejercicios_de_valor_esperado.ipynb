{
  "nbformat": 4,
  "nbformat_minor": 0,
  "metadata": {
    "colab": {
      "provenance": [],
      "authorship_tag": "ABX9TyNiFoMQlIiqU2OzQ6lPiRz0",
      "include_colab_link": true
    },
    "kernelspec": {
      "name": "python3",
      "display_name": "Python 3"
    },
    "language_info": {
      "name": "python"
    }
  },
  "cells": [
    {
      "cell_type": "markdown",
      "metadata": {
        "id": "view-in-github",
        "colab_type": "text"
      },
      "source": [
        "<a href=\"https://colab.research.google.com/github/itdjosehp/Probabilidad-y-Estadistica/blob/main/Ejercicios_de_valor_esperado.ipynb\" target=\"_parent\"><img src=\"https://colab.research.google.com/assets/colab-badge.svg\" alt=\"Open In Colab\"/></a>"
      ]
    },
    {
      "cell_type": "code",
      "execution_count": null,
      "metadata": {
        "id": "HGAMFRj5yN39"
      },
      "outputs": [],
      "source": [
        "import numpy as np\n",
        "from scipy.stats import binom"
      ]
    },
    {
      "cell_type": "markdown",
      "source": [
        "# Ejercicio 1: Torneo de póker"
      ],
      "metadata": {
        "id": "I85Y2Jf8DLrk"
      }
    },
    {
      "cell_type": "code",
      "source": [
        "\n",
        "# Posibles ganancias o pérdidas\n",
        "X = np.array([490000, -10000])\n",
        "\n",
        "# Probabilidades respectivas\n",
        "P = np.array([0.005, 0.995])\n",
        "\n",
        "# Cálculo del valor esperado\n",
        "valor_esperado = np.sum(X * P)\n",
        "\n",
        "print(f\"El valor esperado es: {valor_esperado} mil dólares\")"
      ],
      "metadata": {
        "colab": {
          "base_uri": "https://localhost:8080/"
        },
        "id": "dZEGzrO4DvtU",
        "outputId": "4788369d-4df5-40ad-b27c-818065ad5dc7"
      },
      "execution_count": null,
      "outputs": [
        {
          "output_type": "stream",
          "name": "stdout",
          "text": [
            "El valor esperado es: -7500.0 mil dólares\n"
          ]
        }
      ]
    },
    {
      "cell_type": "markdown",
      "source": [
        "# Ejercicio 2: Viaje en tren de Alice"
      ],
      "metadata": {
        "id": "sb-PGcC6EROk"
      }
    },
    {
      "cell_type": "code",
      "source": [
        "\n",
        "# Posibles costos del viaje\n",
        "X = np.array([5, 305])\n",
        "\n",
        "# Probabilidades respectivas\n",
        "P = np.array([0.95, 0.05])\n",
        "\n",
        "# Cálculo del valor esperado\n",
        "costo_esperado = np.sum(X * P)\n",
        "\n",
        "print(f\"El costo total esperado del viaje es: {costo_esperado} euros\")\n",
        "\n",
        "#El costo total esperado del viaje en tren de Alice es 20 euros.\n",
        "#Aunque el boleto costó solo 5 euros, el riesgo de la multa aumenta el costo promedio del viaje."
      ],
      "metadata": {
        "colab": {
          "base_uri": "https://localhost:8080/"
        },
        "id": "v3y5lAlREZ5a",
        "outputId": "5e398181-3ea6-4e48-9184-d90f93cd3722"
      },
      "execution_count": null,
      "outputs": [
        {
          "output_type": "stream",
          "name": "stdout",
          "text": [
            "El costo total esperado del viaje es: 20.0 euros\n"
          ]
        }
      ]
    },
    {
      "cell_type": "markdown",
      "source": [
        "# Ejercicio 3: Dado justo de 6 caras"
      ],
      "metadata": {
        "id": "gKT9DIWbFATX"
      }
    },
    {
      "cell_type": "code",
      "source": [
        "# Posibles valores del dado\n",
        "valores = np.array([1, 2, 3, 4, 5, 6])\n",
        "\n",
        "# Probabilidades (todas iguales en un dado justo)\n",
        "probabilidades = np.full(6, 1/6)\n",
        "\n",
        "# Calculamos el valor esperado\n",
        "valor_esperado = np.sum(valores * probabilidades)\n",
        "\n",
        "# Mostramos el resultado\n",
        "print(\"El valor esperado del dado es:\", valor_esperado)"
      ],
      "metadata": {
        "colab": {
          "base_uri": "https://localhost:8080/"
        },
        "id": "c0-9kr6TFIAx",
        "outputId": "cd55c0da-67f3-4aed-c32e-30dc351bb699"
      },
      "execution_count": null,
      "outputs": [
        {
          "output_type": "stream",
          "name": "stdout",
          "text": [
            "El valor esperado del dado es: 3.5\n"
          ]
        }
      ]
    },
    {
      "cell_type": "code",
      "source": [
        "# 1. ¿El dado tiene más probabilidad de caer en 4 que en 6?\n",
        "print(\"¿El número 4 tiene más probabilidad que el 6?\", 1/6 > 1/6)  # Falso\n",
        "\n",
        "# 2. ¿3.5 es un resultado posible en un lanzamiento?\n",
        "print(\"¿3.5 puede ser un resultado?\", 3.5 in valores)  # Falso\n",
        "\n",
        "# 3. ¿El promedio de muchos lanzamientos se acerca a 3.5?\n",
        "simulaciones = np.random.choice(valores, size=100000)  # 100,000 lanzamientos\n",
        "promedio = np.mean(simulaciones)\n",
        "print(\"Promedio de muchos lanzamientos:\", promedio)  # Debe acercarse a 3.5"
      ],
      "metadata": {
        "colab": {
          "base_uri": "https://localhost:8080/"
        },
        "id": "mmpAXO5CFU9v",
        "outputId": "abbb9493-6b80-4633-d77b-070e760d596a"
      },
      "execution_count": null,
      "outputs": [
        {
          "output_type": "stream",
          "name": "stdout",
          "text": [
            "¿El número 4 tiene más probabilidad que el 6? False\n",
            "¿3.5 puede ser un resultado? False\n",
            "Promedio de muchos lanzamientos: 3.50528\n"
          ]
        }
      ]
    },
    {
      "cell_type": "markdown",
      "source": [
        "# Ejercicio 4: Apuesta de Ivy"
      ],
      "metadata": {
        "id": "f7ibHIcUFzwD"
      }
    },
    {
      "cell_type": "code",
      "source": [
        "# Definimos los resultados posibles y sus probabilidades\n",
        "ganancia_dragones = 10\n",
        "perdida_tortugas = -11\n",
        "prob_ganar = 0.5\n",
        "prob_perder = 0.5\n",
        "\n",
        "# Calculamos el valor esperado\n",
        "valor_esperado = (ganancia_dragones * prob_ganar) + (perdida_tortugas * prob_perder)\n",
        "\n",
        "# Mostramos el resultado\n",
        "print(\"El valor esperado de la apuesta es:\", valor_esperado, \"Dólares\")"
      ],
      "metadata": {
        "colab": {
          "base_uri": "https://localhost:8080/"
        },
        "id": "I9NkmYEaF-aX",
        "outputId": "53f19539-12d7-48e4-b253-71b590b6ff15"
      },
      "execution_count": null,
      "outputs": [
        {
          "output_type": "stream",
          "name": "stdout",
          "text": [
            "El valor esperado de la apuesta es: -0.5 Dólares\n"
          ]
        }
      ]
    }
  ]
}