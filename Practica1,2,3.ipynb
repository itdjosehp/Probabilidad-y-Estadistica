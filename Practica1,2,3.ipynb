{
  "nbformat": 4,
  "nbformat_minor": 0,
  "metadata": {
    "colab": {
      "provenance": [],
      "authorship_tag": "ABX9TyNTjtd5laWVJEOM4feEQQLI",
      "include_colab_link": true
    },
    "kernelspec": {
      "name": "python3",
      "display_name": "Python 3"
    },
    "language_info": {
      "name": "python"
    }
  },
  "cells": [
    {
      "cell_type": "markdown",
      "metadata": {
        "id": "view-in-github",
        "colab_type": "text"
      },
      "source": [
        "<a href=\"https://colab.research.google.com/github/itdjosehp/Probabilidad-y-Estadistica/blob/main/Practica1%2C2%2C3.ipynb\" target=\"_parent\"><img src=\"https://colab.research.google.com/assets/colab-badge.svg\" alt=\"Open In Colab\"/></a>"
      ]
    },
    {
      "cell_type": "markdown",
      "source": [],
      "metadata": {
        "id": "kqGtm7DVnK_i"
      }
    },
    {
      "cell_type": "code",
      "source": [
        "from statistics import *\n",
        "grupoa=[70,70,65,90,100,95,45,80,73,20,100,96]\n",
        "print (grupoa)"
      ],
      "metadata": {
        "colab": {
          "base_uri": "https://localhost:8080/"
        },
        "id": "KRS2K57ZTvfW",
        "outputId": "52e3c80e-a361-40c7-fcc1-6080e2a845c7"
      },
      "execution_count": null,
      "outputs": [
        {
          "output_type": "stream",
          "name": "stdout",
          "text": [
            "[70, 70, 65, 90, 100, 95, 45, 80, 73, 20, 100, 96]\n"
          ]
        }
      ]
    },
    {
      "cell_type": "code",
      "source": [
        "type(grupoa)"
      ],
      "metadata": {
        "colab": {
          "base_uri": "https://localhost:8080/"
        },
        "id": "BeqkXZgVUTtW",
        "outputId": "4339963a-eafa-4982-9252-434df2cf94e9"
      },
      "execution_count": null,
      "outputs": [
        {
          "output_type": "execute_result",
          "data": {
            "text/plain": [
              "list"
            ]
          },
          "metadata": {},
          "execution_count": 57
        }
      ]
    },
    {
      "cell_type": "code",
      "source": [
        "promedio= sum(grupoa)/len(grupoa)\n",
        "print (promedio)"
      ],
      "metadata": {
        "colab": {
          "base_uri": "https://localhost:8080/"
        },
        "id": "LE5vIub1UYpR",
        "outputId": "e9615225-e5b7-413a-aee6-4124b1fd6143"
      },
      "execution_count": null,
      "outputs": [
        {
          "output_type": "stream",
          "name": "stdout",
          "text": [
            "75.33333333333333\n"
          ]
        }
      ]
    },
    {
      "cell_type": "code",
      "source": [
        "promedio2=mean(grupoa)\n",
        "print (promedio2)"
      ],
      "metadata": {
        "colab": {
          "base_uri": "https://localhost:8080/"
        },
        "id": "0cEjXr58U1Za",
        "outputId": "24d43681-fc8c-4abb-b89c-b601e4dfc013"
      },
      "execution_count": null,
      "outputs": [
        {
          "output_type": "stream",
          "name": "stdout",
          "text": [
            "75.33333333333333\n"
          ]
        }
      ]
    },
    {
      "cell_type": "code",
      "source": [
        "mediana=median(grupoa)\n",
        "print (mediana)"
      ],
      "metadata": {
        "colab": {
          "base_uri": "https://localhost:8080/"
        },
        "id": "VkZHZSwjVpCH",
        "outputId": "9ff1c728-c876-4f77-fc1c-1ff48f11da40"
      },
      "execution_count": null,
      "outputs": [
        {
          "output_type": "stream",
          "name": "stdout",
          "text": [
            "76.5\n"
          ]
        }
      ]
    },
    {
      "cell_type": "code",
      "source": [
        "moda=mode(grupoa)\n",
        "print (moda)"
      ],
      "metadata": {
        "colab": {
          "base_uri": "https://localhost:8080/"
        },
        "id": "nnvj6CW2WR26",
        "outputId": "79379a9e-8399-40ae-c6a6-1a74fcd484b5"
      },
      "execution_count": null,
      "outputs": [
        {
          "output_type": "stream",
          "name": "stdout",
          "text": [
            "70\n"
          ]
        }
      ]
    },
    {
      "cell_type": "code",
      "source": [
        "moda2=multimode(grupoa)\n",
        "print (moda2)"
      ],
      "metadata": {
        "colab": {
          "base_uri": "https://localhost:8080/"
        },
        "id": "nQjYjcYxXQgl",
        "outputId": "1edeb590-ce9e-4e6c-e575-c920dce70067"
      },
      "execution_count": null,
      "outputs": [
        {
          "output_type": "stream",
          "name": "stdout",
          "text": [
            "[70, 100]\n"
          ]
        }
      ]
    },
    {
      "cell_type": "markdown",
      "source": [
        "Ejemplo 2: Tiempos de 100 metros de 12 alumnos"
      ],
      "metadata": {
        "id": "gRDmDJ6TYfTZ"
      }
    },
    {
      "cell_type": "code",
      "source": [
        "tiempos100mts=[15.10,17.20,14.69,13.27,22.15,18.71,19.15,20.65,15.1,17.2]\n",
        "print(tiempos100mts)"
      ],
      "metadata": {
        "colab": {
          "base_uri": "https://localhost:8080/"
        },
        "id": "I_9CA8-MXrpp",
        "outputId": "09b6ad5e-68fd-4011-94e8-a0ea428cbe84"
      },
      "execution_count": null,
      "outputs": [
        {
          "output_type": "stream",
          "name": "stdout",
          "text": [
            "[15.1, 17.2, 14.69, 13.27, 22.15, 18.71, 19.15, 20.65, 15.1, 17.2]\n"
          ]
        }
      ]
    },
    {
      "cell_type": "code",
      "source": [
        "print(\"El tiempo promedio de los corredores es →\" , mean(tiempos100mts))"
      ],
      "metadata": {
        "colab": {
          "base_uri": "https://localhost:8080/"
        },
        "id": "6MHKl38pZhLJ",
        "outputId": "13e2a234-1359-45ba-ef09-3a5edff8a6d3"
      },
      "execution_count": null,
      "outputs": [
        {
          "output_type": "stream",
          "name": "stdout",
          "text": [
            "El tiempo promedio de los corredores es → 17.322\n"
          ]
        }
      ]
    },
    {
      "cell_type": "code",
      "source": [
        "mediana=median(tiempos100mts)\n",
        "print (\"La media de tiempo de los corredores es →\",mediana)"
      ],
      "metadata": {
        "colab": {
          "base_uri": "https://localhost:8080/"
        },
        "id": "h29I098JZ0Kt",
        "outputId": "b40ee554-44a0-4d23-9fb8-4676ca1b8df9"
      },
      "execution_count": null,
      "outputs": [
        {
          "output_type": "stream",
          "name": "stdout",
          "text": [
            "La media de tiempo de los corredores es → 17.2\n"
          ]
        }
      ]
    },
    {
      "cell_type": "code",
      "source": [
        "moda=mode(tiempos100mts)\n",
        "print (\"La moda de tiempo de los corredores es →\",moda)"
      ],
      "metadata": {
        "colab": {
          "base_uri": "https://localhost:8080/"
        },
        "id": "xO9dPDduaMD_",
        "outputId": "0207f403-0710-49b0-e93e-7487ba5a8273"
      },
      "execution_count": null,
      "outputs": [
        {
          "output_type": "stream",
          "name": "stdout",
          "text": [
            "La moda de tiempo de los corredores es → 15.1\n"
          ]
        }
      ]
    },
    {
      "cell_type": "code",
      "source": [
        "multimodas=multimode(tiempos100mts)\n",
        "print (\"Las modas de tiempo de los corredores son →\",multimodas)"
      ],
      "metadata": {
        "colab": {
          "base_uri": "https://localhost:8080/"
        },
        "id": "_7PKnOGgasbe",
        "outputId": "e8d08711-a0f8-4b66-a55b-4c146c7224f2"
      },
      "execution_count": null,
      "outputs": [
        {
          "output_type": "stream",
          "name": "stdout",
          "text": [
            "Las modas de tiempo de los corredores son → [15.1, 17.2]\n"
          ]
        }
      ]
    },
    {
      "cell_type": "markdown",
      "source": [
        "Ejemplo 3:Histograma de 2 grupos"
      ],
      "metadata": {
        "id": "OCN_Sqe1brqy"
      }
    },
    {
      "cell_type": "code",
      "source": [
        "import random"
      ],
      "metadata": {
        "id": "eqDSIwr-bVVY"
      },
      "execution_count": null,
      "outputs": []
    },
    {
      "cell_type": "code",
      "source": [
        "fabrica1=[]\n",
        "for i in range(100):\n",
        " numero_aleatorio = round(random.uniform(50,100),2)\n",
        " fabrica1.append(numero_aleatorio)\n",
        "print (fabrica1)"
      ],
      "metadata": {
        "colab": {
          "base_uri": "https://localhost:8080/"
        },
        "id": "eqyq6KPrb4C7",
        "outputId": "f4b6fa5a-98bf-42ca-aaff-714a43f2185f"
      },
      "execution_count": null,
      "outputs": [
        {
          "output_type": "stream",
          "name": "stdout",
          "text": [
            "[90.89, 75.7, 69.71, 81.96, 77.5, 56.22, 83.56, 62.18, 66.7, 60.73, 53.8, 68.73, 95.03, 88.78, 82.77, 74.08, 57.18, 80.38, 90.89, 90.52, 72.26, 95.78, 75.99, 75.39, 85.16, 86.84, 62.88, 96.48, 98.91, 64.34, 83.67, 96.61, 78.46, 73.96, 71.4, 89.48, 97.16, 60.91, 66.19, 94.66, 67.62, 54.72, 83.83, 64.35, 75.37, 67.33, 68.68, 78.44, 65.57, 83.38, 88.5, 52.47, 78.43, 99.83, 93.02, 56.46, 63.16, 65.78, 73.16, 68.91, 95.1, 95.93, 86.75, 92.76, 77.74, 63.91, 58.98, 84.61, 80.12, 75.71, 82.52, 99.72, 78.03, 79.67, 72.95, 61.94, 52.73, 88.41, 74.47, 68.05, 50.09, 94.39, 89.31, 78.16, 94.76, 67.25, 54.27, 78.93, 96.06, 93.74, 84.6, 52.49, 69.57, 67.9, 84.67, 65.3, 91.83, 68.42, 81.9, 56.04]\n"
          ]
        }
      ]
    },
    {
      "cell_type": "code",
      "source": [
        "fabrica2=[]\n",
        "for i in range(100):\n",
        " numero_aleatorio2 = round(random.uniform(50,100),2)\n",
        " fabrica2.append(numero_aleatorio2)\n",
        "print (fabrica2)"
      ],
      "metadata": {
        "colab": {
          "base_uri": "https://localhost:8080/"
        },
        "id": "VMX9xn_2cSgm",
        "outputId": "b1b6599c-2eae-485d-cf78-9315589a8bd9"
      },
      "execution_count": null,
      "outputs": [
        {
          "output_type": "stream",
          "name": "stdout",
          "text": [
            "[78.12, 62.79, 84.48, 76.45, 91.75, 72.52, 85.99, 51.28, 56.84, 95.3, 56.07, 55.2, 77.55, 82.38, 98.53, 60.27, 97.93, 90.8, 70.25, 65.66, 81.61, 82.65, 65.93, 51.22, 77.0, 93.24, 61.82, 65.43, 88.02, 82.48, 78.78, 99.34, 54.16, 64.07, 71.37, 88.09, 73.89, 59.82, 61.71, 84.55, 61.34, 63.97, 70.39, 81.0, 86.12, 51.87, 87.97, 91.62, 78.73, 71.46, 56.56, 65.94, 79.41, 53.06, 80.43, 95.02, 63.19, 94.01, 92.64, 89.06, 61.96, 87.34, 81.6, 53.5, 61.92, 75.23, 76.49, 85.8, 70.95, 78.91, 77.14, 70.49, 82.2, 80.24, 54.35, 85.11, 78.78, 90.63, 81.61, 52.41, 76.54, 74.47, 99.79, 65.23, 57.98, 72.29, 89.87, 71.25, 58.97, 69.92, 71.28, 94.59, 62.1, 82.94, 91.08, 80.85, 73.7, 79.92, 74.92, 65.59]\n"
          ]
        }
      ]
    },
    {
      "cell_type": "code",
      "source": [
        "import matplotlib.pyplot as plt\n",
        "plt.hist(fabrica1)\n",
        "plt.title(\"Produccion de la fabrica 1\")"
      ],
      "metadata": {
        "colab": {
          "base_uri": "https://localhost:8080/",
          "height": 469
        },
        "id": "CTB9bdo4dTi-",
        "outputId": "9efc65b5-bdd1-46a5-9391-28688c824f79"
      },
      "execution_count": null,
      "outputs": [
        {
          "output_type": "execute_result",
          "data": {
            "text/plain": [
              "Text(0.5, 1.0, 'Produccion de la fabrica 1')"
            ]
          },
          "metadata": {},
          "execution_count": 71
        },
        {
          "output_type": "display_data",
          "data": {
            "text/plain": [
              "<Figure size 640x480 with 1 Axes>"
            ],
            "image/png": "[encoded data removed]"
          },
          "metadata": {}
        }
      ]
    },
    {
      "cell_type": "code",
      "source": [
        "plt.hist(fabrica2)\n",
        "plt.title(\"Produccion de la fabrica 2\")"
      ],
      "metadata": {
        "colab": {
          "base_uri": "https://localhost:8080/",
          "height": 469
        },
        "id": "Ecx4MJM4eNKC",
        "outputId": "abb50f6a-6123-433a-f530-31624a3d6681"
      },
      "execution_count": null,
      "outputs": [
        {
          "output_type": "execute_result",
          "data": {
            "text/plain": [
              "Text(0.5, 1.0, 'Produccion de la fabrica 2')"
            ]
          },
          "metadata": {},
          "execution_count": 72
        },
        {
          "output_type": "display_data",
          "data": {
            "text/plain": [
              "<Figure size 640x480 with 1 Axes>"
            ],
            "image/png": "[encoded data removed]"
          },
          "metadata": {}
        }
      ]
    },
    {
      "cell_type": "code",
      "source": [
        "media1=mean(fabrica1)\n",
        "mediana1=median(fabrica1)\n",
        "mod1=mode(fabrica1)\n",
        "\n",
        "print(\"Valores Fabrica1\")\n",
        "print(\"Media:\",media1)\n",
        "print(\"Mediana:\",mediana1)\n",
        "print(\"Moda:\",mod1)"
      ],
      "metadata": {
        "id": "SZlwTZ4RefsF",
        "colab": {
          "base_uri": "https://localhost:8080/"
        },
        "outputId": "0d67f2f7-3dda-4f53-85e0-e6fd1b3691b4"
      },
      "execution_count": null,
      "outputs": [
        {
          "output_type": "stream",
          "name": "stdout",
          "text": [
            "Valores Fabrica1\n",
            "Media: 76.7263\n",
            "Mediana: 77.62\n",
            "Moda: 90.89\n"
          ]
        }
      ]
    },
    {
      "cell_type": "code",
      "source": [
        "media2=mean(fabrica2)\n",
        "mediana2=median(fabrica2)\n",
        "mod2=mode(fabrica2)\n",
        "\n",
        "print(\"Valores Fabrica2\")\n",
        "print(\"Media:\",media2)\n",
        "print(\"Mediana:\",mediana2)\n",
        "print(\"Moda:\",mod2)"
      ],
      "metadata": {
        "colab": {
          "base_uri": "https://localhost:8080/"
        },
        "id": "5qE4vWGOjNJG",
        "outputId": "cc7ad292-7676-4576-c413-a060b67b9a64"
      },
      "execution_count": null,
      "outputs": [
        {
          "output_type": "stream",
          "name": "stdout",
          "text": [
            "Valores Fabrica2\n",
            "Media: 75.0907\n",
            "Mediana: 76.515\n",
            "Moda: 81.61\n"
          ]
        }
      ]
    },
    {
      "cell_type": "code",
      "source": [
        "fig,(ax1,ax2)=plt.subplots(nrows=1,ncols=2,figsize=(9,5))\n",
        "ax1.hist(fabrica1)\n",
        "ax2.hist(fabrica2)\n",
        "plt.show()"
      ],
      "metadata": {
        "colab": {
          "base_uri": "https://localhost:8080/",
          "height": 445
        },
        "id": "YCmUffaOfGRX",
        "outputId": "a264d57d-dbd7-4110-b38d-7d4e40e4dc7e"
      },
      "execution_count": null,
      "outputs": [
        {
          "output_type": "display_data",
          "data": {
            "text/plain": [
              "<Figure size 900x500 with 2 Axes>"
            ],
            "image/png": "[encoded data removed]"
          },
          "metadata": {}
        }
      ]
    },
    {
      "cell_type": "code",
      "source": [
        "plt.hist(fabrica1, bins=10, alpha=0.2, color='b', edgecolor = \"black\")\n",
        "plt.axvline(media1, color='b', linestyle='dashed', linewidth=2, label='Media')\n",
        "plt.axvline(mediana1, color='r', linestyle='dashed', linewidth=2, label='Mediana')\n",
        "plt.axvline(mod1, color='y', linestyle='dashed', linewidth=2, label= 'Moda')\n",
        "plt.xlabel('Valor')\n",
        "plt.ylabel('Frecuencia')\n",
        "plt.title(\"Producción diaria de la fabrica 1\")\n",
        "plt.legend()\n",
        "plt.show()"
      ],
      "metadata": {
        "colab": {
          "base_uri": "https://localhost:8080/",
          "height": 472
        },
        "id": "SWhbf9t5fzFe",
        "outputId": "def76a88-1eab-4ac2-d7dd-e55912c210d9"
      },
      "execution_count": null,
      "outputs": [
        {
          "output_type": "display_data",
          "data": {
            "text/plain": [
              "<Figure size 640x480 with 1 Axes>"
            ],
            "image/png": "[encoded data removed]"
          },
          "metadata": {}
        }
      ]
    },
    {
      "cell_type": "code",
      "source": [
        "plt.hist(fabrica2, bins=10, alpha=0.2, color='b', edgecolor = \"black\")\n",
        "plt.axvline(media2, color='b', linestyle='dashed', linewidth=2, label='Media')\n",
        "plt.axvline(mediana2, color='r', linestyle='dashed', linewidth=2, label='Mediana')\n",
        "plt.axvline(mod2, color='y', linestyle='dashed', linewidth=2, label= 'Moda')\n",
        "plt.xlabel('Valor')\n",
        "plt.ylabel('Frecuencia')\n",
        "plt.title(\"Producción diaria de la fabrica 2\")\n",
        "plt.legend()\n",
        "plt.show()"
      ],
      "metadata": {
        "colab": {
          "base_uri": "https://localhost:8080/",
          "height": 472
        },
        "id": "a1qBVkh7hq9Y",
        "outputId": "5c4529b9-668d-4e2a-a604-204fb0aa36db"
      },
      "execution_count": null,
      "outputs": [
        {
          "output_type": "display_data",
          "data": {
            "text/plain": [
              "<Figure size 640x480 with 1 Axes>"
            ],
            "image/png": "[encoded data removed]"
          },
          "metadata": {}
        }
      ]
    },
    {
      "cell_type": "code",
      "source": [],
      "metadata": {
        "id": "_GCeYUwyihxE"
      },
      "execution_count": null,
      "outputs": []
    }
  ]
}